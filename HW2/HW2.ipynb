{
 "cells": [
  {
   "cell_type": "markdown",
   "metadata": {},
   "source": [
    "引入套件"
   ]
  },
  {
   "cell_type": "code",
   "execution_count": 1,
   "metadata": {},
   "outputs": [],
   "source": [
    "from gensim.models import KeyedVectors\n",
    "import pandas as pd\n"
   ]
  },
  {
   "cell_type": "markdown",
   "metadata": {},
   "source": [
    "引入pre-train model(https://drive.google.com/file/d/0B7XkCwpI5KDYNlNUTTlSS21pQmM/edit?resourcekey=0-wjGZdNAUop6WykTtMip30g)(記得下載)\n",
    "、dataset"
   ]
  },
  {
   "cell_type": "code",
   "execution_count": 2,
   "metadata": {},
   "outputs": [],
   "source": [
    "model = KeyedVectors.load_word2vec_format('model/GoogleNews-vectors-negative300.bin.gz', binary=True)\n",
    "\n",
    "Word353 = pd.read_csv(\"data/WordSimilarity/combined.csv\")"
   ]
  },
  {
   "cell_type": "markdown",
   "metadata": {},
   "source": [
    "以word2vec對每行的兩個word預測相似度"
   ]
  },
  {
   "cell_type": "code",
   "execution_count": 3,
   "metadata": {},
   "outputs": [
    {
     "data": {
      "text/html": [
       "<div>\n",
       "<style scoped>\n",
       "    .dataframe tbody tr th:only-of-type {\n",
       "        vertical-align: middle;\n",
       "    }\n",
       "\n",
       "    .dataframe tbody tr th {\n",
       "        vertical-align: top;\n",
       "    }\n",
       "\n",
       "    .dataframe thead th {\n",
       "        text-align: right;\n",
       "    }\n",
       "</style>\n",
       "<table border=\"1\" class=\"dataframe\">\n",
       "  <thead>\n",
       "    <tr style=\"text-align: right;\">\n",
       "      <th></th>\n",
       "      <th>Word2vec_score</th>\n",
       "      <th>Word 1</th>\n",
       "      <th>Word 2</th>\n",
       "      <th>Human (mean)</th>\n",
       "    </tr>\n",
       "  </thead>\n",
       "  <tbody>\n",
       "    <tr>\n",
       "      <th>0</th>\n",
       "      <td>6.319689</td>\n",
       "      <td>love</td>\n",
       "      <td>sex</td>\n",
       "      <td>6.77</td>\n",
       "    </tr>\n",
       "    <tr>\n",
       "      <th>1</th>\n",
       "      <td>7.586481</td>\n",
       "      <td>tiger</td>\n",
       "      <td>cat</td>\n",
       "      <td>7.35</td>\n",
       "    </tr>\n",
       "    <tr>\n",
       "      <th>2</th>\n",
       "      <td>10.000000</td>\n",
       "      <td>tiger</td>\n",
       "      <td>tiger</td>\n",
       "      <td>10.00</td>\n",
       "    </tr>\n",
       "    <tr>\n",
       "      <th>3</th>\n",
       "      <td>6.817313</td>\n",
       "      <td>book</td>\n",
       "      <td>paper</td>\n",
       "      <td>7.46</td>\n",
       "    </tr>\n",
       "    <tr>\n",
       "      <th>4</th>\n",
       "      <td>6.981958</td>\n",
       "      <td>computer</td>\n",
       "      <td>keyboard</td>\n",
       "      <td>7.62</td>\n",
       "    </tr>\n",
       "    <tr>\n",
       "      <th>...</th>\n",
       "      <td>...</td>\n",
       "      <td>...</td>\n",
       "      <td>...</td>\n",
       "      <td>...</td>\n",
       "    </tr>\n",
       "    <tr>\n",
       "      <th>348</th>\n",
       "      <td>5.647397</td>\n",
       "      <td>shower</td>\n",
       "      <td>flood</td>\n",
       "      <td>6.03</td>\n",
       "    </tr>\n",
       "    <tr>\n",
       "      <th>349</th>\n",
       "      <td>6.813604</td>\n",
       "      <td>weather</td>\n",
       "      <td>forecast</td>\n",
       "      <td>8.34</td>\n",
       "    </tr>\n",
       "    <tr>\n",
       "      <th>350</th>\n",
       "      <td>5.726142</td>\n",
       "      <td>disaster</td>\n",
       "      <td>area</td>\n",
       "      <td>6.25</td>\n",
       "    </tr>\n",
       "    <tr>\n",
       "      <th>351</th>\n",
       "      <td>6.483178</td>\n",
       "      <td>governor</td>\n",
       "      <td>office</td>\n",
       "      <td>6.34</td>\n",
       "    </tr>\n",
       "    <tr>\n",
       "      <th>352</th>\n",
       "      <td>5.715467</td>\n",
       "      <td>architecture</td>\n",
       "      <td>century</td>\n",
       "      <td>3.78</td>\n",
       "    </tr>\n",
       "  </tbody>\n",
       "</table>\n",
       "<p>353 rows × 4 columns</p>\n",
       "</div>"
      ],
      "text/plain": [
       "     Word2vec_score        Word 1    Word 2  Human (mean)\n",
       "0          6.319689          love       sex          6.77\n",
       "1          7.586481         tiger       cat          7.35\n",
       "2         10.000000         tiger     tiger         10.00\n",
       "3          6.817313          book     paper          7.46\n",
       "4          6.981958      computer  keyboard          7.62\n",
       "..              ...           ...       ...           ...\n",
       "348        5.647397        shower     flood          6.03\n",
       "349        6.813604       weather  forecast          8.34\n",
       "350        5.726142      disaster      area          6.25\n",
       "351        6.483178      governor    office          6.34\n",
       "352        5.715467  architecture   century          3.78\n",
       "\n",
       "[353 rows x 4 columns]"
      ]
     },
     "execution_count": 3,
     "metadata": {},
     "output_type": "execute_result"
    }
   ],
   "source": [
    "def extract_words(row):\n",
    "    return  (model.similarity(row['Word 1'], row['Word 2'])+1)*5 \n",
    "   \n",
    "df = Word353.apply(extract_words, axis=1)\n",
    "merge_df = pd.concat([df, Word353], axis=1)\n",
    "merge_df = merge_df.rename(columns={0: 'Word2vec_score'})\n",
    "\n",
    "merge_df"
   ]
  },
  {
   "cell_type": "markdown",
   "metadata": {},
   "source": [
    "計算與人類 Human (mean)的差異"
   ]
  },
  {
   "cell_type": "code",
   "execution_count": 4,
   "metadata": {},
   "outputs": [
    {
     "name": "stdout",
     "output_type": "stream",
     "text": [
      "     Word2vec_score        Word 1    Word 2  Human (mean)      diff_abs\n",
      "0          6.319689          love       sex          6.77  4.503114e-01\n",
      "1          7.586481         tiger       cat          7.35  2.364810e-01\n",
      "2         10.000000         tiger     tiger         10.00  2.980232e-07\n",
      "3          6.817313          book     paper          7.46  6.426870e-01\n",
      "4          6.981958      computer  keyboard          7.62  6.380418e-01\n",
      "..              ...           ...       ...           ...           ...\n",
      "348        5.647397        shower     flood          6.03  3.826033e-01\n",
      "349        6.813604       weather  forecast          8.34  1.526396e+00\n",
      "350        5.726142      disaster      area          6.25  5.238584e-01\n",
      "351        6.483178      governor    office          6.34  1.431778e-01\n",
      "352        5.715467  architecture   century          3.78  1.935467e+00\n",
      "\n",
      "[353 rows x 5 columns]\n",
      "diff_abs 平均值： 1.3775137043640377\n"
     ]
    }
   ],
   "source": [
    "def calculate_difference(row):\n",
    "    return abs(row['Word2vec_score'] - row['Human (mean)'])\n",
    "\n",
    "merge_df['diff_abs'] = merge_df.apply(calculate_difference, axis=1)\n",
    "\n",
    "print(merge_df)\n",
    "diff_abs_mean = merge_df['diff_abs'].mean()\n",
    "print(\"diff_abs 平均值：\", diff_abs_mean)"
   ]
  },
  {
   "cell_type": "markdown",
   "metadata": {},
   "source": [
    "做成csv"
   ]
  },
  {
   "cell_type": "code",
   "execution_count": 9,
   "metadata": {},
   "outputs": [],
   "source": [
    "\n",
    "merge_df.to_csv(\"result/word2vec_353.csv\")"
   ]
  }
 ],
 "metadata": {
  "kernelspec": {
   "display_name": "Python 3",
   "language": "python",
   "name": "python3"
  },
  "language_info": {
   "codemirror_mode": {
    "name": "ipython",
    "version": 3
   },
   "file_extension": ".py",
   "mimetype": "text/x-python",
   "name": "python",
   "nbconvert_exporter": "python",
   "pygments_lexer": "ipython3",
   "version": "3.10.7"
  }
 },
 "nbformat": 4,
 "nbformat_minor": 2
}
